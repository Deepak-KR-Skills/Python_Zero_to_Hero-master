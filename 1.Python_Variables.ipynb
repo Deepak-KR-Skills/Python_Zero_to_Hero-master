{
 "cells": [
  {
   "cell_type": "markdown",
   "metadata": {},
   "source": [
    "# **Variable's**"
   ]
  },
  {
   "cell_type": "markdown",
   "metadata": {},
   "source": [
    "## **1. Creating Variables**\n",
    "- variables are containers for storing data values. Unlike other programming languages, Python has no command for declaring a variable.\n",
    "- A variable is created the moment you first assign a value to it."
   ]
  },
  {
   "cell_type": "markdown",
   "metadata": {},
   "source": [
    "## **2. Variable Names**\n",
    "- A variable can have a short name (like x and y) or a more descriptive name (age, carname, total_volume). Rules for Python variables:\n",
    "- A variable name must start with a letter or the underscore character\n",
    "- A variable name cannot start with a number\n",
    "- A variable name can only contain alpha-numeric characters and underscores (A-z, 0-9, and _ )\n",
    "Variable names are case-sensitive (age, Age and AGE are three different variables) \n",
    "\n",
    "Examples:  \n",
    "myvar   \n",
    "my_var   \n",
    "_my_var  \n",
    "myVar  \n",
    "MYVAR  \n",
    "myvar2  "
   ]
  },
  {
   "cell_type": "markdown",
   "metadata": {},
   "source": [
    "## **3. Assigning Multiple variables**\n",
    "\n",
    "**3.1 Many Values to Multiple Variables**  \n",
    "Python allows you to assign values to multiple variables in one line:  \n",
    "`x, y, z = \"Orange\", \"Banana\", \"Cherry\"`  \n",
    "\n",
    "> **Note:** Make sure the number of variables matches the number of values, or else you will get an error.  \n",
    "\n",
    "**3.2 One Value to Multiple Variables**  \n",
    "And you can assign the same value to multiple variables in one line:  \n",
    "`x = y = z = \"Orange\"`  \n",
    "\n",
    "**3.3 Unpack a Collection**  \n",
    "If you have a collection of values in a list, tuple etc. Python allows you extract the values into variables. This is called unpacking.  \n",
    "`fruits = [\"apple\", \"banana\", \"cherry\"]`  \n",
    "`x, y, z = fruits`"
   ]
  },
  {
   "cell_type": "markdown",
   "metadata": {},
   "source": [
    "## **4. Output variables**  \n",
    "The Python print statement is often used to output variables.\n",
    "\n",
    "**4.1 To combine both text and a variable, Python uses the + character:**  \n",
    "`x = \"awesome\"`  \n",
    "`print(\"Python is \" + x)`  \n",
    "\n",
    "**4.2 You can also use the + character to add a variable to another variable:**  \n",
    "`x = \"Python is \"`  \n",
    "`y = \"awesome\"`  \n",
    "`z = x + y`  \n",
    "\n",
    "**4.3 For numbers, the + character works as a mathematical operator:**\n",
    "`x = 5`  \n",
    "`y = 10`  \n",
    "`print(x + y)`  \n",
    "\n",
    "> **Note:** If you try to combine a string and a number, Python will give you an error:  \n",
    "`x = 5`  \n",
    "`y = \"John\"`  \n",
    "`print(x + y)`           //error"
   ]
  },
  {
   "cell_type": "markdown",
   "metadata": {},
   "source": [
    "## **5. Input variables**  \n",
    "Usage use of input() keyword.   \n",
    "`input('Please enter your name:')` "
   ]
  },
  {
   "cell_type": "markdown",
   "metadata": {},
   "source": [
    "## **6. Variables Scope**  \n",
    "\n",
    "**6.1 Global scope**  \n",
    "Variables that are created outside of a function (as in all of the examples above) are known as global variables.  \n",
    "- Global variables can be used by everyone, both inside of functions and outside.\n",
    "\n",
    "**6.2 Local scope**  \n",
    "A variable created inside a function belongs to the local scope of that function, and can be only be used inside that function.\n",
    "\n",
    "> **Note:** If you create a variable with the same name inside a function, this variable will be local, and can only be used inside the function. The global variable with the same name will remain as it was, global and with the original value.\n",
    "\n",
    "**6.2 Global Keyword**  \n",
    "Normally, when you create a variable inside a function, that variable is local, and can only be used inside that function.  To create a global variable inside a function, you can use the `global` keyword.  \n",
    "\n",
    "Usage  \n",
    "`x = \"awesome\"`  //Global variable\n",
    "\n",
    "`def myfunc():`  \n",
    "    `global x`  // using global keyword to make loacl variable to global variable   \n",
    "    `x = \"fantastic\"`  // Local variable\n",
    "\n",
    "`myfunc()`"
   ]
  }
 ],
 "metadata": {
  "interpreter": {
   "hash": "08a7378106735304ab00d5da0812f69b231a6927b2b06644e00fd5fac1bfef7e"
  },
  "kernelspec": {
   "display_name": "Python 3.9.6 64-bit",
   "name": "python3"
  },
  "language_info": {
   "codemirror_mode": {
    "name": "ipython",
    "version": 3
   },
   "file_extension": ".py",
   "mimetype": "text/x-python",
   "name": "python",
   "nbconvert_exporter": "python",
   "pygments_lexer": "ipython3",
   "version": "3.9.6"
  },
  "orig_nbformat": 4
 },
 "nbformat": 4,
 "nbformat_minor": 2
}
